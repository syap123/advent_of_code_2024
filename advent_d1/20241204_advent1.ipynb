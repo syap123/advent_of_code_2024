{
 "cells": [
  {
   "cell_type": "code",
   "execution_count": 1,
   "id": "021d07d8-5eaf-4556-b819-7fd749fe6062",
   "metadata": {},
   "outputs": [],
   "source": [
    "import pandas as pd"
   ]
  },
  {
   "cell_type": "code",
   "execution_count": 2,
   "id": "b9a13113-a8ca-48ad-9941-46e2011bee06",
   "metadata": {},
   "outputs": [],
   "source": [
    "adv1 = pd.read_csv('advent_1_input.csv')"
   ]
  },
  {
   "cell_type": "code",
   "execution_count": 3,
   "id": "cbbe9e4a-d84b-40e0-809b-82b334d9fead",
   "metadata": {},
   "outputs": [
    {
     "data": {
      "text/html": [
       "<div>\n",
       "<style scoped>\n",
       "    .dataframe tbody tr th:only-of-type {\n",
       "        vertical-align: middle;\n",
       "    }\n",
       "\n",
       "    .dataframe tbody tr th {\n",
       "        vertical-align: top;\n",
       "    }\n",
       "\n",
       "    .dataframe thead th {\n",
       "        text-align: right;\n",
       "    }\n",
       "</style>\n",
       "<table border=\"1\" class=\"dataframe\">\n",
       "  <thead>\n",
       "    <tr style=\"text-align: right;\">\n",
       "      <th></th>\n",
       "      <th>list1</th>\n",
       "      <th>list2</th>\n",
       "    </tr>\n",
       "  </thead>\n",
       "  <tbody>\n",
       "    <tr>\n",
       "      <th>0</th>\n",
       "      <td>77710</td>\n",
       "      <td>11556</td>\n",
       "    </tr>\n",
       "    <tr>\n",
       "      <th>1</th>\n",
       "      <td>22632</td>\n",
       "      <td>23674</td>\n",
       "    </tr>\n",
       "    <tr>\n",
       "      <th>2</th>\n",
       "      <td>82229</td>\n",
       "      <td>77288</td>\n",
       "    </tr>\n",
       "    <tr>\n",
       "      <th>3</th>\n",
       "      <td>35788</td>\n",
       "      <td>30924</td>\n",
       "    </tr>\n",
       "    <tr>\n",
       "      <th>4</th>\n",
       "      <td>84000</td>\n",
       "      <td>63702</td>\n",
       "    </tr>\n",
       "  </tbody>\n",
       "</table>\n",
       "</div>"
      ],
      "text/plain": [
       "   list1  list2\n",
       "0  77710  11556\n",
       "1  22632  23674\n",
       "2  82229  77288\n",
       "3  35788  30924\n",
       "4  84000  63702"
      ]
     },
     "execution_count": 3,
     "metadata": {},
     "output_type": "execute_result"
    }
   ],
   "source": [
    "adv1.head()"
   ]
  },
  {
   "cell_type": "code",
   "execution_count": 4,
   "id": "4d8f51ac-a9e7-4414-a282-d50cd42dbd98",
   "metadata": {},
   "outputs": [],
   "source": [
    "l1_sorted = adv1['list1'].sort_values().reset_index(drop=True)"
   ]
  },
  {
   "cell_type": "code",
   "execution_count": 5,
   "id": "5569a44d-ccae-43b3-99da-0acfc35b8760",
   "metadata": {},
   "outputs": [
    {
     "data": {
      "text/plain": [
       "0    10029\n",
       "1    10121\n",
       "2    10146\n",
       "3    10147\n",
       "4    10211\n",
       "Name: list1, dtype: int64"
      ]
     },
     "execution_count": 5,
     "metadata": {},
     "output_type": "execute_result"
    }
   ],
   "source": [
    "l1_sorted.head()"
   ]
  },
  {
   "cell_type": "code",
   "execution_count": 6,
   "id": "23c4754b-82b2-4d0c-9dd4-f2c446a97b69",
   "metadata": {},
   "outputs": [],
   "source": [
    "l2_sorted = adv1['list2'].sort_values().reset_index(drop=True)"
   ]
  },
  {
   "cell_type": "code",
   "execution_count": 7,
   "id": "8c6ec3a2-3dc1-488b-add1-fea6eec5690a",
   "metadata": {},
   "outputs": [
    {
     "data": {
      "text/plain": [
       "0    10422\n",
       "1    10536\n",
       "2    10552\n",
       "3    10601\n",
       "4    10666\n",
       "Name: list2, dtype: int64"
      ]
     },
     "execution_count": 7,
     "metadata": {},
     "output_type": "execute_result"
    }
   ],
   "source": [
    "l2_sorted.head()"
   ]
  },
  {
   "cell_type": "code",
   "execution_count": 8,
   "id": "6ffc9ec9-b6f6-461e-bc7c-4d3b27ee12e0",
   "metadata": {},
   "outputs": [],
   "source": [
    "individually_sorted = pd.concat([l1_sorted,l2_sorted],axis = 1,ignore_index = True)"
   ]
  },
  {
   "cell_type": "code",
   "execution_count": 9,
   "id": "afcc7c06-4018-44fd-b363-01a0f21396fa",
   "metadata": {},
   "outputs": [
    {
     "data": {
      "text/html": [
       "<div>\n",
       "<style scoped>\n",
       "    .dataframe tbody tr th:only-of-type {\n",
       "        vertical-align: middle;\n",
       "    }\n",
       "\n",
       "    .dataframe tbody tr th {\n",
       "        vertical-align: top;\n",
       "    }\n",
       "\n",
       "    .dataframe thead th {\n",
       "        text-align: right;\n",
       "    }\n",
       "</style>\n",
       "<table border=\"1\" class=\"dataframe\">\n",
       "  <thead>\n",
       "    <tr style=\"text-align: right;\">\n",
       "      <th></th>\n",
       "      <th>0</th>\n",
       "      <th>1</th>\n",
       "    </tr>\n",
       "  </thead>\n",
       "  <tbody>\n",
       "    <tr>\n",
       "      <th>0</th>\n",
       "      <td>10029</td>\n",
       "      <td>10422</td>\n",
       "    </tr>\n",
       "    <tr>\n",
       "      <th>1</th>\n",
       "      <td>10121</td>\n",
       "      <td>10536</td>\n",
       "    </tr>\n",
       "    <tr>\n",
       "      <th>2</th>\n",
       "      <td>10146</td>\n",
       "      <td>10552</td>\n",
       "    </tr>\n",
       "    <tr>\n",
       "      <th>3</th>\n",
       "      <td>10147</td>\n",
       "      <td>10601</td>\n",
       "    </tr>\n",
       "    <tr>\n",
       "      <th>4</th>\n",
       "      <td>10211</td>\n",
       "      <td>10666</td>\n",
       "    </tr>\n",
       "  </tbody>\n",
       "</table>\n",
       "</div>"
      ],
      "text/plain": [
       "       0      1\n",
       "0  10029  10422\n",
       "1  10121  10536\n",
       "2  10146  10552\n",
       "3  10147  10601\n",
       "4  10211  10666"
      ]
     },
     "execution_count": 9,
     "metadata": {},
     "output_type": "execute_result"
    }
   ],
   "source": [
    "individually_sorted.head()"
   ]
  },
  {
   "cell_type": "code",
   "execution_count": 10,
   "id": "1056de53-2b1c-4088-8396-4a82f8529274",
   "metadata": {},
   "outputs": [],
   "source": [
    "individually_sorted.columns = ['sorted1','sorted2']"
   ]
  },
  {
   "cell_type": "code",
   "execution_count": 11,
   "id": "38724d79-bf3f-49cf-acd7-7fecd1c654e8",
   "metadata": {},
   "outputs": [],
   "source": [
    "individually_sorted['distance'] = (individually_sorted['sorted1'] - individually_sorted['sorted2']).abs()"
   ]
  },
  {
   "cell_type": "code",
   "execution_count": 12,
   "id": "85c93491-7950-422e-95bd-7b7798f4a6a5",
   "metadata": {},
   "outputs": [
    {
     "data": {
      "text/html": [
       "<div>\n",
       "<style scoped>\n",
       "    .dataframe tbody tr th:only-of-type {\n",
       "        vertical-align: middle;\n",
       "    }\n",
       "\n",
       "    .dataframe tbody tr th {\n",
       "        vertical-align: top;\n",
       "    }\n",
       "\n",
       "    .dataframe thead th {\n",
       "        text-align: right;\n",
       "    }\n",
       "</style>\n",
       "<table border=\"1\" class=\"dataframe\">\n",
       "  <thead>\n",
       "    <tr style=\"text-align: right;\">\n",
       "      <th></th>\n",
       "      <th>sorted1</th>\n",
       "      <th>sorted2</th>\n",
       "      <th>distance</th>\n",
       "    </tr>\n",
       "  </thead>\n",
       "  <tbody>\n",
       "    <tr>\n",
       "      <th>0</th>\n",
       "      <td>10029</td>\n",
       "      <td>10422</td>\n",
       "      <td>393</td>\n",
       "    </tr>\n",
       "    <tr>\n",
       "      <th>1</th>\n",
       "      <td>10121</td>\n",
       "      <td>10536</td>\n",
       "      <td>415</td>\n",
       "    </tr>\n",
       "    <tr>\n",
       "      <th>2</th>\n",
       "      <td>10146</td>\n",
       "      <td>10552</td>\n",
       "      <td>406</td>\n",
       "    </tr>\n",
       "    <tr>\n",
       "      <th>3</th>\n",
       "      <td>10147</td>\n",
       "      <td>10601</td>\n",
       "      <td>454</td>\n",
       "    </tr>\n",
       "    <tr>\n",
       "      <th>4</th>\n",
       "      <td>10211</td>\n",
       "      <td>10666</td>\n",
       "      <td>455</td>\n",
       "    </tr>\n",
       "  </tbody>\n",
       "</table>\n",
       "</div>"
      ],
      "text/plain": [
       "   sorted1  sorted2  distance\n",
       "0    10029    10422       393\n",
       "1    10121    10536       415\n",
       "2    10146    10552       406\n",
       "3    10147    10601       454\n",
       "4    10211    10666       455"
      ]
     },
     "execution_count": 12,
     "metadata": {},
     "output_type": "execute_result"
    }
   ],
   "source": [
    "individually_sorted.head()"
   ]
  },
  {
   "cell_type": "code",
   "execution_count": 13,
   "id": "0fc30328-0be5-4ede-bea7-6f690646a00d",
   "metadata": {},
   "outputs": [
    {
     "data": {
      "text/plain": [
       "np.int64(1197984)"
      ]
     },
     "execution_count": 13,
     "metadata": {},
     "output_type": "execute_result"
    }
   ],
   "source": [
    "individually_sorted.distance.sum()"
   ]
  },
  {
   "cell_type": "code",
   "execution_count": 14,
   "id": "5c5f4da7-54e4-4f53-94de-7e9bffd9d186",
   "metadata": {},
   "outputs": [],
   "source": [
    "list1 = individually_sorted.sorted1.tolist()"
   ]
  },
  {
   "cell_type": "code",
   "execution_count": 15,
   "id": "32b3316e-b3dc-4d1e-bde6-7ab7633ca8cb",
   "metadata": {},
   "outputs": [],
   "source": [
    "list2 = individually_sorted.sorted2.tolist()"
   ]
  },
  {
   "cell_type": "code",
   "execution_count": 28,
   "id": "0998fda1-4800-4e15-9b34-964c3eec8ed8",
   "metadata": {},
   "outputs": [],
   "source": []
  },
  {
   "cell_type": "code",
   "execution_count": 33,
   "id": "6b77bf82-f051-43ee-8e98-7be74e14fe1b",
   "metadata": {},
   "outputs": [],
   "source": [
    "i = 0\n",
    "j = 0\n",
    "similarity_score = 0\n",
    "while i < len(list1):\n",
    "    found_score = False\n",
    "    j = 0 \n",
    "    while j < len(list2) and list1[i] > list2[j]:\n",
    "        j += 1\n",
    "    while j < len(list2) and list1[i] == list2[j]:\n",
    "        found_score = True\n",
    "        similarity_score += list1[i]\n",
    "        j += 1\n",
    "    i += 1\n",
    "   \n",
    "            "
   ]
  },
  {
   "cell_type": "code",
   "execution_count": 34,
   "id": "65cbc41f-41ee-4863-906a-b903e678a668",
   "metadata": {},
   "outputs": [
    {
     "data": {
      "text/plain": [
       "23387399"
      ]
     },
     "execution_count": 34,
     "metadata": {},
     "output_type": "execute_result"
    }
   ],
   "source": [
    "similarity_score"
   ]
  },
  {
   "cell_type": "code",
   "execution_count": 24,
   "id": "bc80692a-a32a-4fef-b7cf-fbcce83f71f7",
   "metadata": {},
   "outputs": [
    {
     "data": {
      "text/plain": [
       "1000"
      ]
     },
     "execution_count": 24,
     "metadata": {},
     "output_type": "execute_result"
    }
   ],
   "source": [
    "len(list1)"
   ]
  },
  {
   "cell_type": "code",
   "execution_count": 25,
   "id": "9de60633-63dc-4e69-819a-ccd499748966",
   "metadata": {},
   "outputs": [
    {
     "data": {
      "text/plain": [
       "1000"
      ]
     },
     "execution_count": 25,
     "metadata": {},
     "output_type": "execute_result"
    }
   ],
   "source": [
    "len(list2)"
   ]
  },
  {
   "cell_type": "raw",
   "id": "fa03a73a-8811-4eaf-87e5-2e8b1e337371",
   "metadata": {},
   "source": [
    "Advent of Code[About][Events][Shop][Settings][Log Out]Shonlee Yap 3*\n",
    "   var y=2024;[Calendar][AoC++][Sponsors][Leaderboard][Stats]\n",
    "Our sponsors help make Advent of Code possible:\n",
    "Hapag-Lloyd - Code on! At Hapag-Lloyd, we’re more than containers, we’re shipping IT innovation. Good luck to all and may the best code sail you!\n",
    "--- Day 1: Historian Hysteria ---\n",
    "The Chief Historian is always present for the big Christmas sleigh launch, but nobody has seen him in months! Last anyone heard, he was visiting locations that are historically significant to the North Pole; a group of Senior Historians has asked you to accompany them as they check the places they think he was most likely to visit.\n",
    "\n",
    "As each location is checked, they will mark it on their list with a star. They figure the Chief Historian must be in one of the first fifty places they'll look, so in order to save Christmas, you need to help them get fifty stars on their list before Santa takes off on December 25th.\n",
    "\n",
    "Collect stars by solving puzzles. Two puzzles will be made available on each day in the Advent calendar; the second puzzle is unlocked when you complete the first. Each puzzle grants one star. Good luck!\n",
    "\n",
    "You haven't even left yet and the group of Elvish Senior Historians has already hit a problem: their list of locations to check is currently empty. Eventually, someone decides that the best place to check first would be the Chief Historian's office.\n",
    "\n",
    "Upon pouring into the office, everyone confirms that the Chief Historian is indeed nowhere to be found. Instead, the Elves discover an assortment of notes and lists of historically significant locations! This seems to be the planning the Chief Historian was doing before he left. Perhaps these notes can be used to determine which locations to search?\n",
    "\n",
    "Throughout the Chief's office, the historically significant locations are listed not by name but by a unique number called the location ID. To make sure they don't miss anything, The Historians split into two groups, each searching the office and trying to create their own complete list of location IDs.\n",
    "\n",
    "There's just one problem: by holding the two lists up side by side (your puzzle input), it quickly becomes clear that the lists aren't very similar. Maybe you can help The Historians reconcile their lists?\n",
    "\n",
    "For example:\n",
    "\n",
    "3   4\n",
    "4   3\n",
    "2   5\n",
    "1   3\n",
    "3   9\n",
    "3   3\n",
    "Maybe the lists are only off by a small amount! To find out, pair up the numbers and measure how far apart they are. Pair up the smallest number in the left list with the smallest number in the right list, then the second-smallest left number with the second-smallest right number, and so on.\n",
    "\n",
    "Within each pair, figure out how far apart the two numbers are; you'll need to add up all of those distances. For example, if you pair up a 3 from the left list with a 7 from the right list, the distance apart is 4; if you pair up a 9 with a 3, the distance apart is 6.\n",
    "\n",
    "In the example list above, the pairs and distances would be as follows:\n",
    "\n",
    "The smallest number in the left list is 1, and the smallest number in the right list is 3. The distance between them is 2.\n",
    "The second-smallest number in the left list is 2, and the second-smallest number in the right list is another 3. The distance between them is 1.\n",
    "The third-smallest number in both lists is 3, so the distance between them is 0.\n",
    "The next numbers to pair up are 3 and 4, a distance of 1.\n",
    "The fifth-smallest numbers in each list are 3 and 5, a distance of 2.\n",
    "Finally, the largest number in the left list is 4, while the largest number in the right list is 9; these are a distance 5 apart.\n",
    "To find the total distance between the left list and the right list, add up the distances between all of the pairs you found. In the example above, this is 2 + 1 + 0 + 1 + 2 + 5, a total distance of 11!\n",
    "\n",
    "Your actual left and right lists contain many location IDs. What is the total distance between your lists?\n",
    "\n",
    "Your puzzle answer was 1197984.\n",
    "\n",
    "--- Part Two ---\n",
    "Your analysis only confirmed what everyone feared: the two lists of location IDs are indeed very different.\n",
    "\n",
    "Or are they?\n",
    "\n",
    "The Historians can't agree on which group made the mistakes or how to read most of the Chief's handwriting, but in the commotion you notice an interesting detail: a lot of location IDs appear in both lists! Maybe the other numbers aren't location IDs at all but rather misinterpreted handwriting.\n",
    "\n",
    "This time, you'll need to figure out exactly how often each number from the left list appears in the right list. Calculate a total similarity score by adding up each number in the left list after multiplying it by the number of times that number appears in the right list.\n",
    "\n",
    "Here are the same example lists again:\n",
    "\n",
    "3   4\n",
    "4   3\n",
    "2   5\n",
    "1   3\n",
    "3   9\n",
    "3   3\n",
    "For these example lists, here is the process of finding the similarity score:\n",
    "\n",
    "The first number in the left list is 3. It appears in the right list three times, so the similarity score increases by 3 * 3 = 9.\n",
    "The second number in the left list is 4. It appears in the right list once, so the similarity score increases by 4 * 1 = 4.\n",
    "The third number in the left list is 2. It does not appear in the right list, so the similarity score does not increase (2 * 0 = 0).\n",
    "The fourth number, 1, also does not appear in the right list.\n",
    "The fifth number, 3, appears in the right list three times; the similarity score increases by 9.\n",
    "The last number, 3, appears in the right list three times; the similarity score again increases by 9.\n",
    "So, for these example lists, the similarity score at the end of this process is 31 (9 + 4 + 0 + 0 + 9 + 9).\n",
    "\n",
    "Once again consider your left and right lists. What is their similarity score?\n",
    "\n",
    "Your puzzle answer was 23387399.\n",
    "\n",
    "Both parts of this puzzle are complete! They provide two gold stars: **\n",
    "\n",
    "At this point, you should return to your Advent calendar and try another puzzle.\n",
    "\n",
    "If you still want to see it, you can get your puzzle input.\n",
    "\n",
    "You can also [Share] this puzzle."
   ]
  }
 ],
 "metadata": {
  "kernelspec": {
   "display_name": "Python 3 (ipykernel)",
   "language": "python",
   "name": "python3"
  },
  "language_info": {
   "codemirror_mode": {
    "name": "ipython",
    "version": 3
   },
   "file_extension": ".py",
   "mimetype": "text/x-python",
   "name": "python",
   "nbconvert_exporter": "python",
   "pygments_lexer": "ipython3",
   "version": "3.10.10"
  }
 },
 "nbformat": 4,
 "nbformat_minor": 5
}
