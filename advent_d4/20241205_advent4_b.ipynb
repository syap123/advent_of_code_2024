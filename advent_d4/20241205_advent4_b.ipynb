{
 "cells": [
  {
   "cell_type": "code",
   "execution_count": 37,
   "id": "b5e331ee-c09b-4e60-90f0-8ba3cc97aa39",
   "metadata": {},
   "outputs": [],
   "source": [
    "import csv"
   ]
  },
  {
   "cell_type": "code",
   "execution_count": 38,
   "id": "c567938d-788f-49e8-9c36-2469f17d912e",
   "metadata": {},
   "outputs": [],
   "source": [
    "input_matrix = []\n",
    "with open('advent_d4_input.csv', newline='') as csvfile:\n",
    "    reader = csv.reader(csvfile, delimiter=' ', quotechar='|')\n",
    "    for row in reader:\n",
    "        input_matrix.append(list(row[0]))"
   ]
  },
  {
   "cell_type": "code",
   "execution_count": 39,
   "id": "16a9c018-aa6d-44dc-9837-f4a37937fd38",
   "metadata": {},
   "outputs": [],
   "source": [
    "test_matrix = [['X','X','X','X'],['M','M','M','M'],['A','A','A','A'],['S','S','S','S'],['X','M','A','S']]"
   ]
  },
  {
   "cell_type": "code",
   "execution_count": 40,
   "id": "8eb5ab96-eab4-41cd-9b34-68bcf2ee2c3e",
   "metadata": {},
   "outputs": [],
   "source": [
    "good_A_mine = set()\n",
    "class xmas:\n",
    "    def __init__(self,xmas_matrix):\n",
    "        self.xmas_matrix = xmas_matrix\n",
    "        self.col_length = len(self.xmas_matrix[0])\n",
    "        self.row_length = len(self.xmas_matrix)\n",
    "        #print(self.col_length)\n",
    "        #print(self.row_length)\n",
    "\n",
    "    def looper(self):\n",
    "        total_xmas = 0\n",
    "        i = 1\n",
    "        while i < self.row_length - 1:\n",
    "            j = 1\n",
    "            while j < self.col_length - 1:\n",
    "                if self.xmas_matrix[i][j] == 'A':\n",
    "                    if self.ms_counter((i,j)):\n",
    "                        total_xmas += 1\n",
    "                j += 1\n",
    "            i += 1\n",
    "        return total_xmas\n",
    "\n",
    "    def ms_counter(self, coordinate):\n",
    "\n",
    "        M_count = 0\n",
    "        S_count = 0\n",
    "        i = coordinate[0]\n",
    "        j = coordinate[1]\n",
    "\n",
    "        upleft = [i - 1,j - 1]\n",
    "        upright = [i - 1,j + 1]\n",
    "        downleft = [i + 1, j - 1]\n",
    "        downright = [i + 1, j + 1]\n",
    "\n",
    "        locations = [upleft,upright,downleft,downright]\n",
    "\n",
    "        for coord in locations:\n",
    "            letter = self.xmas_matrix[coord[0]][coord[1]]\n",
    "            if letter == 'M':\n",
    "                M_count += 1\n",
    "            if letter == 'S':\n",
    "                S_count += 1  \n",
    "        if M_count == 2 and S_count == 2 and self.xmas_matrix[upleft[0]][upleft[1]] != self.xmas_matrix[downright[0]][downright[1]]:\n",
    "            good_A_mine.add(coordinate)\n",
    "            return True\n",
    "        else:\n",
    "            return False\n",
    "                \n",
    "            \n",
    "    \n",
    "\n",
    "        \n",
    "        #print(x_coordinate)\n",
    " \n",
    "            "
   ]
  },
  {
   "cell_type": "code",
   "execution_count": null,
   "id": "e539befb-359c-4336-9bed-5e324801f8a5",
   "metadata": {},
   "outputs": [],
   "source": []
  },
  {
   "cell_type": "code",
   "execution_count": 41,
   "id": "a1cccff6-7c28-4c57-a5bd-a83208716edc",
   "metadata": {},
   "outputs": [],
   "source": [
    "my_xmas = xmas(input_matrix)"
   ]
  },
  {
   "cell_type": "code",
   "execution_count": 42,
   "id": "eb9141f9-e081-4653-a09d-816b91b10543",
   "metadata": {},
   "outputs": [
    {
     "data": {
      "text/plain": [
       "1886"
      ]
     },
     "execution_count": 42,
     "metadata": {},
     "output_type": "execute_result"
    }
   ],
   "source": [
    "my_xmas.looper()"
   ]
  },
  {
   "cell_type": "raw",
   "id": "4dc11013-45f3-49c3-a0cc-2a65f2c2b345",
   "metadata": {},
   "source": [
    "Advent of Code[About][Events][Shop][Settings][Log Out]Shonlee Yap 7*\n",
    "   sub y{2024}[Calendar][AoC++][Sponsors][Leaderboard][Stats]\n",
    "Our sponsors help make Advent of Code possible:\n",
    "Boot.dev - Do Adventers-of-Code make the best backend devs? We think so! If you want to master backend development in Python, SQL, and Go, then try our hands-on courses on Boot.dev! Get 25% off first payment w/promo ADVENTOFCODE\n",
    "--- Day 4: Ceres Search ---\n",
    "\"Looks like the Chief's not here. Next!\" One of The Historians pulls out a device and pushes the only button on it. After a brief flash, you recognize the interior of the Ceres monitoring station!\n",
    "\n",
    "As the search for the Chief continues, a small Elf who lives on the station tugs on your shirt; she'd like to know if you could help her with her word search (your puzzle input). She only has to find one word: XMAS.\n",
    "\n",
    "This word search allows words to be horizontal, vertical, diagonal, written backwards, or even overlapping other words. It's a little unusual, though, as you don't merely need to find one instance of XMAS - you need to find all of them. Here are a few ways XMAS might appear, where irrelevant characters have been replaced with .:\n",
    "\n",
    "\n",
    "..X...\n",
    ".SAMX.\n",
    ".A..A.\n",
    "XMAS.S\n",
    ".X....\n",
    "The actual word search will be full of letters instead. For example:\n",
    "\n",
    "MMMSXXMASM\n",
    "MSAMXMSMSA\n",
    "AMXSXMAAMM\n",
    "MSAMASMSMX\n",
    "XMASAMXAMM\n",
    "XXAMMXXAMA\n",
    "SMSMSASXSS\n",
    "SAXAMASAAA\n",
    "MAMMMXMMMM\n",
    "MXMXAXMASX\n",
    "In this word search, XMAS occurs a total of 18 times; here's the same word search again, but where letters not involved in any XMAS have been replaced with .:\n",
    "\n",
    "....XXMAS.\n",
    ".SAMXMS...\n",
    "...S..A...\n",
    "..A.A.MS.X\n",
    "XMASAMX.MM\n",
    "X.....XA.A\n",
    "S.S.S.S.SS\n",
    ".A.A.A.A.A\n",
    "..M.M.M.MM\n",
    ".X.X.XMASX\n",
    "Take a look at the little Elf's word search. How many times does XMAS appear?\n",
    "\n",
    "Your puzzle answer was 2545.\n",
    "\n",
    "The first half of this puzzle is complete! It provides one gold star: *\n",
    "\n",
    "--- Part Two ---\n",
    "The Elf looks quizzically at you. Did you misunderstand the assignment?\n",
    "\n",
    "Looking for the instructions, you flip over the word search to find that this isn't actually an XMAS puzzle; it's an X-MAS puzzle in which you're supposed to find two MAS in the shape of an X. One way to achieve that is like this:\n",
    "\n",
    "M.S\n",
    ".A.\n",
    "M.S\n",
    "Irrelevant characters have again been replaced with . in the above diagram. Within the X, each MAS can be written forwards or backwards.\n",
    "\n",
    "Here's the same example from before, but this time all of the X-MASes have been kept instead:\n",
    "\n",
    ".M.S......\n",
    "..A..MSMS.\n",
    ".M.S.MAA..\n",
    "..A.ASMSM.\n",
    ".M.S.M....\n",
    "..........\n",
    "S.S.S.S.S.\n",
    ".A.A.A.A..\n",
    "M.M.M.M.M.\n",
    "..........\n",
    "In this example, an X-MAS appears 9 times.\n",
    "\n",
    "Flip the word search from the instructions back over to the word search side and try again. How many times does an X-MAS appear?\n",
    "\n",
    "Answer: \n",
    " \n",
    "\n",
    "Although it hasn't changed, you can still get your puzzle input.\n",
    "\n",
    "You can also [Share] this puzzle."
   ]
  },
  {
   "cell_type": "code",
   "execution_count": null,
   "id": "eb241e54-0a46-4991-ba05-865e568b62d9",
   "metadata": {},
   "outputs": [],
   "source": []
  }
 ],
 "metadata": {
  "kernelspec": {
   "display_name": "Python 3 (ipykernel)",
   "language": "python",
   "name": "python3"
  },
  "language_info": {
   "codemirror_mode": {
    "name": "ipython",
    "version": 3
   },
   "file_extension": ".py",
   "mimetype": "text/x-python",
   "name": "python",
   "nbconvert_exporter": "python",
   "pygments_lexer": "ipython3",
   "version": "3.10.10"
  }
 },
 "nbformat": 4,
 "nbformat_minor": 5
}
