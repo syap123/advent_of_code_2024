{
 "cells": [
  {
   "cell_type": "code",
   "execution_count": 1,
   "id": "b5e331ee-c09b-4e60-90f0-8ba3cc97aa39",
   "metadata": {},
   "outputs": [],
   "source": [
    "import csv"
   ]
  },
  {
   "cell_type": "code",
   "execution_count": 2,
   "id": "c567938d-788f-49e8-9c36-2469f17d912e",
   "metadata": {},
   "outputs": [],
   "source": [
    "input_matrix = []\n",
    "with open('advent_d4_input.csv', newline='') as csvfile:\n",
    "    reader = csv.reader(csvfile, delimiter=' ', quotechar='|')\n",
    "    for row in reader:\n",
    "        input_matrix.append(list(row[0]))"
   ]
  },
  {
   "cell_type": "code",
   "execution_count": 3,
   "id": "b85df158-40f2-4415-997e-4b79c178ed2e",
   "metadata": {},
   "outputs": [],
   "source": [
    "test_matrix = [['X','X','X','X'],['M','M','M','M'],['A','A','A','A'],['S','S','S','S'],['X','M','A','S']]"
   ]
  },
  {
   "cell_type": "code",
   "execution_count": 4,
   "id": "8eb5ab96-eab4-41cd-9b34-68bcf2ee2c3e",
   "metadata": {},
   "outputs": [],
   "source": [
    "class xmas:\n",
    "    def __init__(self,xmas_matrix):\n",
    "        self.xmas_matrix = xmas_matrix\n",
    "        self.col_length = len(self.xmas_matrix[0])\n",
    "        self.row_length = len(self.xmas_matrix)\n",
    "        #print(self.col_length)\n",
    "        #print(self.row_length)\n",
    "\n",
    "    def looper(self):\n",
    "        total_xmas = 0\n",
    "        i = 0\n",
    "        \n",
    "        while i < self.row_length:\n",
    "            j = 0\n",
    "            while j < self.col_length:\n",
    "                if self.xmas_matrix[i][j] == 'X':\n",
    "                    total_xmas += self.xmas_counter([i,j])\n",
    "                j += 1\n",
    "            i += 1\n",
    "        return total_xmas\n",
    "\n",
    "\n",
    "    def xmas_validator(self,coordinate_list):\n",
    "        word_list = ['X','M','A','S']\n",
    "        i = 0\n",
    "        #print(coordinate_list)\n",
    "        for coordinates in coordinate_list:\n",
    "            #print(self.xmas_matrix[coordinates[0]][coordinates[1]])\n",
    "            if self.xmas_matrix[coordinates[0]][coordinates[1]] == word_list[i]:\n",
    "                i += 1\n",
    "            else:\n",
    "                return False\n",
    "        return True\n",
    "\n",
    "    def xmas_counter(self, x_coordinate):\n",
    "        # count in 8 directions:\n",
    "        # going left:\n",
    "        xmas_counts = 0\n",
    "        #print(x_coordinate)\n",
    "        \n",
    "        ori_i = x_coordinate[0]\n",
    "        ori_j = x_coordinate[1]\n",
    "        \n",
    "        # up\n",
    "        if ori_i >= 3:\n",
    "            k = 1\n",
    "            coord_list = [x_coordinate]\n",
    "            while k <= 3:\n",
    "                coord_list.append([ori_i - k, ori_j])\n",
    "                k += 1\n",
    "            if self.xmas_validator(coord_list):\n",
    "                xmas_counts += 1     \n",
    "\n",
    "        # down\n",
    "        if ori_i < self.row_length - 3:\n",
    "            k = 1\n",
    "            coord_list = [x_coordinate]\n",
    "            while k <= 3:\n",
    "                coord_list.append([ori_i + k, ori_j])\n",
    "                k += 1\n",
    "            if self.xmas_validator(coord_list):\n",
    "                xmas_counts += 1 \n",
    "\n",
    "        # left\n",
    "        if ori_j >= 3:\n",
    "            k = 1\n",
    "            coord_list = [x_coordinate]\n",
    "            while k <= 3:\n",
    "                coord_list.append([ori_i, ori_j - k])\n",
    "                k += 1\n",
    "            if self.xmas_validator(coord_list):\n",
    "                xmas_counts += 1      \n",
    "\n",
    "        # right\n",
    "        if ori_j < self.col_length - 3:\n",
    "            k = 1\n",
    "            coord_list = [x_coordinate]\n",
    "            while k <= 3:\n",
    "                coord_list.append([ori_i, ori_j + k])\n",
    "                k += 1\n",
    "            if self.xmas_validator(coord_list):\n",
    "                xmas_counts += 1  \n",
    "\n",
    "        # up left\n",
    "        if ori_i >= 3 and ori_j >= 3:\n",
    "            k = 1\n",
    "            coord_list = [x_coordinate]\n",
    "            while k <= 3:\n",
    "                coord_list.append([ori_i - k, ori_j - k])\n",
    "                k += 1\n",
    "            if self.xmas_validator(coord_list):\n",
    "                xmas_counts += 1     \n",
    "\n",
    "        # up right\n",
    "        if ori_i >= 3 and ori_j < self.col_length - 3:\n",
    "            k = 1\n",
    "            coord_list = [x_coordinate]\n",
    "            while k <= 3:\n",
    "                coord_list.append([ori_i - k, ori_j + k])\n",
    "                k += 1\n",
    "            if self.xmas_validator(coord_list):\n",
    "                xmas_counts += 1     \n",
    "\n",
    "        # down left\n",
    "        if ori_i < self.row_length - 3 and ori_j >= 3:\n",
    "            k = 1\n",
    "            coord_list = [x_coordinate]\n",
    "            while k <= 3:\n",
    "                coord_list.append([ori_i + k, ori_j - k])\n",
    "                k += 1\n",
    "            if self.xmas_validator(coord_list):\n",
    "                xmas_counts += 1     \n",
    "\n",
    "        # down right\n",
    "        if ori_i < self.row_length - 3 and ori_j < self.col_length - 3:\n",
    "            k = 1\n",
    "            coord_list = [x_coordinate]\n",
    "            while k <= 3:\n",
    "                coord_list.append([ori_i + k, ori_j + k])\n",
    "                k += 1\n",
    "            if self.xmas_validator(coord_list):\n",
    "                xmas_counts += 1   \n",
    "        \n",
    "        return xmas_counts\n",
    "\n",
    "\n",
    "            "
   ]
  },
  {
   "cell_type": "code",
   "execution_count": 5,
   "id": "a1cccff6-7c28-4c57-a5bd-a83208716edc",
   "metadata": {},
   "outputs": [],
   "source": [
    "my_xmas = xmas(input_matrix)"
   ]
  },
  {
   "cell_type": "code",
   "execution_count": 6,
   "id": "eb9141f9-e081-4653-a09d-816b91b10543",
   "metadata": {},
   "outputs": [
    {
     "data": {
      "text/plain": [
       "2545"
      ]
     },
     "execution_count": 6,
     "metadata": {},
     "output_type": "execute_result"
    }
   ],
   "source": [
    "my_xmas.looper()"
   ]
  },
  {
   "cell_type": "code",
   "execution_count": 7,
   "id": "fe47a55c-0930-4509-aa20-cb5681457a69",
   "metadata": {},
   "outputs": [
    {
     "data": {
      "text/plain": [
       "[['X', 'X', 'X', 'X'],\n",
       " ['M', 'M', 'M', 'M'],\n",
       " ['A', 'A', 'A', 'A'],\n",
       " ['S', 'S', 'S', 'S'],\n",
       " ['X', 'M', 'A', 'S']]"
      ]
     },
     "execution_count": 7,
     "metadata": {},
     "output_type": "execute_result"
    }
   ],
   "source": [
    "test_matrix"
   ]
  },
  {
   "cell_type": "code",
   "execution_count": 8,
   "id": "e73b3393-cf04-423e-8796-4de1815180a4",
   "metadata": {},
   "outputs": [
    {
     "data": {
      "text/plain": [
       "'X'"
      ]
     },
     "execution_count": 8,
     "metadata": {},
     "output_type": "execute_result"
    }
   ],
   "source": [
    "test_matrix[4][0]"
   ]
  },
  {
   "cell_type": "code",
   "execution_count": null,
   "id": "6c82a542-c0d1-493d-b62b-e37c6c469dfa",
   "metadata": {},
   "outputs": [],
   "source": [
    "Advent of Code[About][Events][Shop][Settings][Log Out]Shonlee Yap 7*\n",
    "   sub y{2024}[Calendar][AoC++][Sponsors][Leaderboard][Stats]\n",
    "Our sponsors help make Advent of Code possible:\n",
    "Boot.dev - Do Adventers-of-Code make the best backend devs? We think so! If you want to master backend development in Python, SQL, and Go, then try our hands-on courses on Boot.dev! Get 25% off first payment w/promo ADVENTOFCODE\n",
    "--- Day 4: Ceres Search ---\n",
    "\"Looks like the Chief's not here. Next!\" One of The Historians pulls out a device and pushes the only button on it. After a brief flash, you recognize the interior of the Ceres monitoring station!\n",
    "\n",
    "As the search for the Chief continues, a small Elf who lives on the station tugs on your shirt; she'd like to know if you could help her with her word search (your puzzle input). She only has to find one word: XMAS.\n",
    "\n",
    "This word search allows words to be horizontal, vertical, diagonal, written backwards, or even overlapping other words. It's a little unusual, though, as you don't merely need to find one instance of XMAS - you need to find all of them. Here are a few ways XMAS might appear, where irrelevant characters have been replaced with .:\n",
    "\n",
    "\n",
    "..X...\n",
    ".SAMX.\n",
    ".A..A.\n",
    "XMAS.S\n",
    ".X....\n",
    "The actual word search will be full of letters instead. For example:\n",
    "\n",
    "MMMSXXMASM\n",
    "MSAMXMSMSA\n",
    "AMXSXMAAMM\n",
    "MSAMASMSMX\n",
    "XMASAMXAMM\n",
    "XXAMMXXAMA\n",
    "SMSMSASXSS\n",
    "SAXAMASAAA\n",
    "MAMMMXMMMM\n",
    "MXMXAXMASX\n",
    "In this word search, XMAS occurs a total of 18 times; here's the same word search again, but where letters not involved in any XMAS have been replaced with .:\n",
    "\n",
    "....XXMAS.\n",
    ".SAMXMS...\n",
    "...S..A...\n",
    "..A.A.MS.X\n",
    "XMASAMX.MM\n",
    "X.....XA.A\n",
    "S.S.S.S.SS\n",
    ".A.A.A.A.A\n",
    "..M.M.M.MM\n",
    ".X.X.XMASX\n",
    "Take a look at the little Elf's word search. How many times does XMAS appear?\n",
    "\n",
    "Your puzzle answer was 2545.\n",
    "\n",
    "The first half of this puzzle is complete! It provides one gold star: *\n",
    "\n",
    "--- Part Two ---\n",
    "The Elf looks quizzically at you. Did you misunderstand the assignment?\n",
    "\n",
    "Looking for the instructions, you flip over the word search to find that this isn't actually an XMAS puzzle; it's an X-MAS puzzle in which you're supposed to find two MAS in the shape of an X. One way to achieve that is like this:\n",
    "\n",
    "M.S\n",
    ".A.\n",
    "M.S\n",
    "Irrelevant characters have again been replaced with . in the above diagram. Within the X, each MAS can be written forwards or backwards.\n",
    "\n",
    "Here's the same example from before, but this time all of the X-MASes have been kept instead:\n",
    "\n",
    ".M.S......\n",
    "..A..MSMS.\n",
    ".M.S.MAA..\n",
    "..A.ASMSM.\n",
    ".M.S.M....\n",
    "..........\n",
    "S.S.S.S.S.\n",
    ".A.A.A.A..\n",
    "M.M.M.M.M.\n",
    "..........\n",
    "In this example, an X-MAS appears 9 times.\n",
    "\n",
    "Flip the word search from the instructions back over to the word search side and try again. How many times does an X-MAS appear?\n",
    "\n",
    "Answer: \n",
    " \n",
    "\n",
    "Although it hasn't changed, you can still get your puzzle input.\n",
    "\n",
    "You can also [Share] this puzzle."
   ]
  },
  {
   "cell_type": "code",
   "execution_count": null,
   "id": "eb241e54-0a46-4991-ba05-865e568b62d9",
   "metadata": {},
   "outputs": [],
   "source": []
  }
 ],
 "metadata": {
  "kernelspec": {
   "display_name": "Python 3 (ipykernel)",
   "language": "python",
   "name": "python3"
  },
  "language_info": {
   "codemirror_mode": {
    "name": "ipython",
    "version": 3
   },
   "file_extension": ".py",
   "mimetype": "text/x-python",
   "name": "python",
   "nbconvert_exporter": "python",
   "pygments_lexer": "ipython3",
   "version": "3.10.10"
  }
 },
 "nbformat": 4,
 "nbformat_minor": 5
}
