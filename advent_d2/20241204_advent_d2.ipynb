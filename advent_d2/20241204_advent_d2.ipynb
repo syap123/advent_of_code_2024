{
 "cells": [
  {
   "cell_type": "code",
   "execution_count": 1,
   "id": "f32bacc8-e4be-4f55-be4b-762ba403d698",
   "metadata": {},
   "outputs": [],
   "source": [
    "import csv\n",
    "from copy import deepcopy\n",
    "\n",
    "            "
   ]
  },
  {
   "cell_type": "code",
   "execution_count": 2,
   "id": "e4b434b5-8fbb-4bf8-b9a6-d363db2fa8fb",
   "metadata": {},
   "outputs": [],
   "source": [
    "def is_safe(input_list):\n",
    "    lower_limit = 1\n",
    "    upper_limit = 3\n",
    "\n",
    "    if len(input_list) == 1:\n",
    "        return True\n",
    "\n",
    "    diff_original = int(input_list[1]) - int(input_list[0])\n",
    "    if abs(diff_original) < lower_limit:\n",
    "        return False\n",
    "    if abs(diff_original) > upper_limit:\n",
    "        return False    \n",
    "\n",
    "    i = 1\n",
    "    while i < len(input_list) - 1:\n",
    "        diff = int(input_list[i + 1]) - int(input_list[i])\n",
    "\n",
    "        #check monotonous\n",
    "        if diff_original > 0 and diff < 0:\n",
    "            return False\n",
    "        if diff_original < 0 and diff > 0:\n",
    "            return False            \n",
    "\n",
    "        # check if each diff is within limit\n",
    "        if abs(diff) < lower_limit:\n",
    "            return False\n",
    "        if abs(diff) > upper_limit:\n",
    "            return False\n",
    "        i += 1\n",
    "    return True\n",
    "        "
   ]
  },
  {
   "cell_type": "code",
   "execution_count": 21,
   "id": "1787991d-4651-4613-853c-543f2e732f21",
   "metadata": {},
   "outputs": [],
   "source": [
    "def is_safe_after_damping(input_list):\n",
    "\n",
    "    if is_safe(input_list):\n",
    "        return True\n",
    "\n",
    "    elif is_safe(input_list) is False:\n",
    "        i = 0\n",
    "        while i < len(input_list):\n",
    "            popped_list = deepcopy(input_list)\n",
    "            popped_list.pop(i)\n",
    "            if is_safe(popped_list):\n",
    "                return True\n",
    "            i += 1\n",
    "        return False\n",
    "\n",
    "        "
   ]
  },
  {
   "cell_type": "code",
   "execution_count": 22,
   "id": "7e30e271-4970-40f4-a1b4-74b3419756d8",
   "metadata": {},
   "outputs": [],
   "source": [
    "input_list = [1,2,9,4,5]"
   ]
  },
  {
   "cell_type": "code",
   "execution_count": 23,
   "id": "ff8ad4ab-f28d-4a70-9012-c91addf6c1db",
   "metadata": {},
   "outputs": [],
   "source": [
    "i = 0"
   ]
  },
  {
   "cell_type": "code",
   "execution_count": 24,
   "id": "b5ec51ad-b9a4-42a3-b071-5d536b7573c3",
   "metadata": {},
   "outputs": [
    {
     "data": {
      "text/plain": [
       "1"
      ]
     },
     "execution_count": 24,
     "metadata": {},
     "output_type": "execute_result"
    }
   ],
   "source": [
    "popped_list = deepcopy(input_list)\n",
    "popped_list.pop(i)"
   ]
  },
  {
   "cell_type": "code",
   "execution_count": 25,
   "id": "666ebad5-2585-4f4c-b66a-5116fb11aa66",
   "metadata": {},
   "outputs": [
    {
     "data": {
      "text/plain": [
       "False"
      ]
     },
     "execution_count": 25,
     "metadata": {},
     "output_type": "execute_result"
    }
   ],
   "source": [
    "is_safe(popped_list)"
   ]
  },
  {
   "cell_type": "code",
   "execution_count": 26,
   "id": "ca6d8541-8ff7-4632-80f5-740865e1bd45",
   "metadata": {},
   "outputs": [],
   "source": [
    "safe_reports = 0 \n",
    "with open('advent_2_input.csv', newline='') as csvfile:\n",
    "    reader = csv.reader(csvfile, delimiter=' ', quotechar='|')\n",
    "    for row in reader:\n",
    "        if is_safe_after_damping(row):\n",
    "            safe_reports +=1"
   ]
  },
  {
   "cell_type": "code",
   "execution_count": 27,
   "id": "4b4946f0-720e-4899-a518-d4c0de3a85ba",
   "metadata": {},
   "outputs": [
    {
     "data": {
      "text/plain": [
       "488"
      ]
     },
     "execution_count": 27,
     "metadata": {},
     "output_type": "execute_result"
    }
   ],
   "source": [
    "safe_reports"
   ]
  },
  {
   "cell_type": "raw",
   "id": "1744cda4-332f-4b71-bf32-1350dfcf7614",
   "metadata": {},
   "source": [
    "Advent of Code[About][Events][Shop][Settings][Log Out]Shonlee Yap 3*\n",
    "   <y>2024</y>[Calendar][AoC++][Sponsors][Leaderboard][Stats]\n",
    "Our sponsors help make Advent of Code possible:\n",
    "Jane Street - We're a research-driven trading firm where curious people work together to solve the puzzle of global markets. Will our next great idea come from you? Our largest offices are in NYC, London, Hong Kong, and Singapore.\n",
    "--- Day 2: Red-Nosed Reports ---\n",
    "Fortunately, the first location The Historians want to search isn't a long walk from the Chief Historian's office.\n",
    "\n",
    "While the Red-Nosed Reindeer nuclear fusion/fission plant appears to contain no sign of the Chief Historian, the engineers there run up to you as soon as they see you. Apparently, they still talk about the time Rudolph was saved through molecular synthesis from a single electron.\n",
    "\n",
    "They're quick to add that - since you're already here - they'd really appreciate your help analyzing some unusual data from the Red-Nosed reactor. You turn to check if The Historians are waiting for you, but they seem to have already divided into groups that are currently searching every corner of the facility. You offer to help with the unusual data.\n",
    "\n",
    "The unusual data (your puzzle input) consists of many reports, one report per line. Each report is a list of numbers called levels that are separated by spaces. For example:\n",
    "\n",
    "7 6 4 2 1\n",
    "1 2 7 8 9\n",
    "9 7 6 2 1\n",
    "1 3 2 4 5\n",
    "8 6 4 4 1\n",
    "1 3 6 7 9\n",
    "This example data contains six reports each containing five levels.\n",
    "\n",
    "The engineers are trying to figure out which reports are safe. The Red-Nosed reactor safety systems can only tolerate levels that are either gradually increasing or gradually decreasing. So, a report only counts as safe if both of the following are true:\n",
    "\n",
    "The levels are either all increasing or all decreasing.\n",
    "Any two adjacent levels differ by at least one and at most three.\n",
    "In the example above, the reports can be found safe or unsafe by checking those rules:\n",
    "\n",
    "7 6 4 2 1: Safe because the levels are all decreasing by 1 or 2.\n",
    "1 2 7 8 9: Unsafe because 2 7 is an increase of 5.\n",
    "9 7 6 2 1: Unsafe because 6 2 is a decrease of 4.\n",
    "1 3 2 4 5: Unsafe because 1 3 is increasing but 3 2 is decreasing.\n",
    "8 6 4 4 1: Unsafe because 4 4 is neither an increase or a decrease.\n",
    "1 3 6 7 9: Safe because the levels are all increasing by 1, 2, or 3.\n",
    "So, in this example, 2 reports are safe.\n",
    "\n",
    "Analyze the unusual data from the engineers. How many reports are safe?\n",
    "\n",
    "Your puzzle answer was 432.\n",
    "\n",
    "The first half of this puzzle is complete! It provides one gold star: *\n",
    "\n",
    "--- Part Two ---\n",
    "The engineers are surprised by the low number of safe reports until they realize they forgot to tell you about the Problem Dampener.\n",
    "\n",
    "The Problem Dampener is a reactor-mounted module that lets the reactor safety systems tolerate a single bad level in what would otherwise be a safe report. It's like the bad level never happened!\n",
    "\n",
    "Now, the same rules apply as before, except if removing a single level from an unsafe report would make it safe, the report instead counts as safe.\n",
    "\n",
    "More of the above example's reports are now safe:\n",
    "\n",
    "7 6 4 2 1: Safe without removing any level.\n",
    "1 2 7 8 9: Unsafe regardless of which level is removed.\n",
    "9 7 6 2 1: Unsafe regardless of which level is removed.\n",
    "1 3 2 4 5: Safe by removing the second level, 3.\n",
    "8 6 4 4 1: Safe by removing the third level, 4.\n",
    "1 3 6 7 9: Safe without removing any level.\n",
    "Thanks to the Problem Dampener, 4 reports are actually safe!\n",
    "\n",
    "Update your analysis by handling situations where the Problem Dampener can remove a single level from unsafe reports. How many reports are now safe?\n",
    "\n",
    "Answer: \n",
    " \n",
    "\n",
    "Although it hasn't changed, you can still get your puzzle input.\n",
    "\n",
    "You can also [Share] this puzzle."
   ]
  }
 ],
 "metadata": {
  "kernelspec": {
   "display_name": "Python 3 (ipykernel)",
   "language": "python",
   "name": "python3"
  },
  "language_info": {
   "codemirror_mode": {
    "name": "ipython",
    "version": 3
   },
   "file_extension": ".py",
   "mimetype": "text/x-python",
   "name": "python",
   "nbconvert_exporter": "python",
   "pygments_lexer": "ipython3",
   "version": "3.10.10"
  }
 },
 "nbformat": 4,
 "nbformat_minor": 5
}
